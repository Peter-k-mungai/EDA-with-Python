{
 "cells": [
  {
   "cell_type": "code",
   "execution_count": 1,
   "id": "6064715c",
   "metadata": {},
   "outputs": [],
   "source": [
    "import warnings\n",
    "\n",
    "warnings.filterwarnings(\"ignore\")\n",
    "import pandas as pd\n",
    "import numpy as np\n",
    "import plotly.express as px\n",
    "import sklearn as sk\n",
    "import seaborn as sns\n",
    "import matplotlib.pyplot as plt"
   ]
  },
  {
   "cell_type": "code",
   "execution_count": 2,
   "id": "0505e863",
   "metadata": {},
   "outputs": [
    {
     "data": {
      "text/html": [
       "<div>\n",
       "<style scoped>\n",
       "    .dataframe tbody tr th:only-of-type {\n",
       "        vertical-align: middle;\n",
       "    }\n",
       "\n",
       "    .dataframe tbody tr th {\n",
       "        vertical-align: top;\n",
       "    }\n",
       "\n",
       "    .dataframe thead th {\n",
       "        text-align: right;\n",
       "    }\n",
       "</style>\n",
       "<table border=\"1\" class=\"dataframe\">\n",
       "  <thead>\n",
       "    <tr style=\"text-align: right;\">\n",
       "      <th></th>\n",
       "      <th>Unnamed: 0</th>\n",
       "      <th>satisfaction_level</th>\n",
       "      <th>last_evaluation_score</th>\n",
       "      <th>project_count</th>\n",
       "      <th>average_monthly_hours</th>\n",
       "      <th>years_of_working</th>\n",
       "      <th>workplace_acciedent_count</th>\n",
       "      <th>employment_status</th>\n",
       "      <th>promotion_last_5years</th>\n",
       "      <th>department</th>\n",
       "      <th>salary_range</th>\n",
       "      <th>Score_variance</th>\n",
       "    </tr>\n",
       "  </thead>\n",
       "  <tbody>\n",
       "    <tr>\n",
       "      <th>0</th>\n",
       "      <td>0</td>\n",
       "      <td>0.38</td>\n",
       "      <td>0.53</td>\n",
       "      <td>2</td>\n",
       "      <td>157</td>\n",
       "      <td>3</td>\n",
       "      <td>0</td>\n",
       "      <td>1</td>\n",
       "      <td>0</td>\n",
       "      <td>sales</td>\n",
       "      <td>low</td>\n",
       "      <td>0.15</td>\n",
       "    </tr>\n",
       "    <tr>\n",
       "      <th>1</th>\n",
       "      <td>2</td>\n",
       "      <td>0.11</td>\n",
       "      <td>0.88</td>\n",
       "      <td>7</td>\n",
       "      <td>272</td>\n",
       "      <td>4</td>\n",
       "      <td>0</td>\n",
       "      <td>1</td>\n",
       "      <td>0</td>\n",
       "      <td>sales</td>\n",
       "      <td>medium</td>\n",
       "      <td>0.77</td>\n",
       "    </tr>\n",
       "    <tr>\n",
       "      <th>2</th>\n",
       "      <td>3</td>\n",
       "      <td>0.72</td>\n",
       "      <td>0.87</td>\n",
       "      <td>5</td>\n",
       "      <td>223</td>\n",
       "      <td>5</td>\n",
       "      <td>0</td>\n",
       "      <td>1</td>\n",
       "      <td>0</td>\n",
       "      <td>sales</td>\n",
       "      <td>low</td>\n",
       "      <td>0.15</td>\n",
       "    </tr>\n",
       "    <tr>\n",
       "      <th>3</th>\n",
       "      <td>4</td>\n",
       "      <td>0.37</td>\n",
       "      <td>0.52</td>\n",
       "      <td>2</td>\n",
       "      <td>159</td>\n",
       "      <td>3</td>\n",
       "      <td>0</td>\n",
       "      <td>1</td>\n",
       "      <td>0</td>\n",
       "      <td>sales</td>\n",
       "      <td>low</td>\n",
       "      <td>0.15</td>\n",
       "    </tr>\n",
       "    <tr>\n",
       "      <th>4</th>\n",
       "      <td>5</td>\n",
       "      <td>0.41</td>\n",
       "      <td>0.50</td>\n",
       "      <td>2</td>\n",
       "      <td>153</td>\n",
       "      <td>3</td>\n",
       "      <td>0</td>\n",
       "      <td>1</td>\n",
       "      <td>0</td>\n",
       "      <td>sales</td>\n",
       "      <td>low</td>\n",
       "      <td>0.09</td>\n",
       "    </tr>\n",
       "    <tr>\n",
       "      <th>5</th>\n",
       "      <td>6</td>\n",
       "      <td>0.10</td>\n",
       "      <td>0.77</td>\n",
       "      <td>6</td>\n",
       "      <td>247</td>\n",
       "      <td>4</td>\n",
       "      <td>0</td>\n",
       "      <td>1</td>\n",
       "      <td>0</td>\n",
       "      <td>sales</td>\n",
       "      <td>low</td>\n",
       "      <td>0.67</td>\n",
       "    </tr>\n",
       "    <tr>\n",
       "      <th>6</th>\n",
       "      <td>7</td>\n",
       "      <td>0.92</td>\n",
       "      <td>0.85</td>\n",
       "      <td>5</td>\n",
       "      <td>259</td>\n",
       "      <td>5</td>\n",
       "      <td>0</td>\n",
       "      <td>1</td>\n",
       "      <td>0</td>\n",
       "      <td>sales</td>\n",
       "      <td>low</td>\n",
       "      <td>-0.07</td>\n",
       "    </tr>\n",
       "    <tr>\n",
       "      <th>7</th>\n",
       "      <td>8</td>\n",
       "      <td>0.89</td>\n",
       "      <td>1.00</td>\n",
       "      <td>5</td>\n",
       "      <td>224</td>\n",
       "      <td>5</td>\n",
       "      <td>0</td>\n",
       "      <td>1</td>\n",
       "      <td>0</td>\n",
       "      <td>sales</td>\n",
       "      <td>low</td>\n",
       "      <td>0.11</td>\n",
       "    </tr>\n",
       "    <tr>\n",
       "      <th>8</th>\n",
       "      <td>9</td>\n",
       "      <td>0.42</td>\n",
       "      <td>0.53</td>\n",
       "      <td>2</td>\n",
       "      <td>142</td>\n",
       "      <td>3</td>\n",
       "      <td>0</td>\n",
       "      <td>1</td>\n",
       "      <td>0</td>\n",
       "      <td>sales</td>\n",
       "      <td>low</td>\n",
       "      <td>0.11</td>\n",
       "    </tr>\n",
       "    <tr>\n",
       "      <th>9</th>\n",
       "      <td>10</td>\n",
       "      <td>0.45</td>\n",
       "      <td>0.54</td>\n",
       "      <td>2</td>\n",
       "      <td>135</td>\n",
       "      <td>3</td>\n",
       "      <td>0</td>\n",
       "      <td>1</td>\n",
       "      <td>0</td>\n",
       "      <td>sales</td>\n",
       "      <td>low</td>\n",
       "      <td>0.09</td>\n",
       "    </tr>\n",
       "  </tbody>\n",
       "</table>\n",
       "</div>"
      ],
      "text/plain": [
       "   Unnamed: 0  satisfaction_level  last_evaluation_score  project_count  \\\n",
       "0           0                0.38                   0.53              2   \n",
       "1           2                0.11                   0.88              7   \n",
       "2           3                0.72                   0.87              5   \n",
       "3           4                0.37                   0.52              2   \n",
       "4           5                0.41                   0.50              2   \n",
       "5           6                0.10                   0.77              6   \n",
       "6           7                0.92                   0.85              5   \n",
       "7           8                0.89                   1.00              5   \n",
       "8           9                0.42                   0.53              2   \n",
       "9          10                0.45                   0.54              2   \n",
       "\n",
       "   average_monthly_hours  years_of_working  workplace_acciedent_count  \\\n",
       "0                    157                 3                          0   \n",
       "1                    272                 4                          0   \n",
       "2                    223                 5                          0   \n",
       "3                    159                 3                          0   \n",
       "4                    153                 3                          0   \n",
       "5                    247                 4                          0   \n",
       "6                    259                 5                          0   \n",
       "7                    224                 5                          0   \n",
       "8                    142                 3                          0   \n",
       "9                    135                 3                          0   \n",
       "\n",
       "   employment_status  promotion_last_5years department salary_range  \\\n",
       "0                  1                      0      sales          low   \n",
       "1                  1                      0      sales       medium   \n",
       "2                  1                      0      sales          low   \n",
       "3                  1                      0      sales          low   \n",
       "4                  1                      0      sales          low   \n",
       "5                  1                      0      sales          low   \n",
       "6                  1                      0      sales          low   \n",
       "7                  1                      0      sales          low   \n",
       "8                  1                      0      sales          low   \n",
       "9                  1                      0      sales          low   \n",
       "\n",
       "   Score_variance  \n",
       "0            0.15  \n",
       "1            0.77  \n",
       "2            0.15  \n",
       "3            0.15  \n",
       "4            0.09  \n",
       "5            0.67  \n",
       "6           -0.07  \n",
       "7            0.11  \n",
       "8            0.11  \n",
       "9            0.09  "
      ]
     },
     "execution_count": 2,
     "metadata": {},
     "output_type": "execute_result"
    }
   ],
   "source": [
    "df=pd.read_csv(\"HR_clean.csv\")\n",
    "df.head(10)"
   ]
  },
  {
   "cell_type": "code",
   "execution_count": 3,
   "id": "fca2c085",
   "metadata": {},
   "outputs": [
    {
     "data": {
      "text/plain": [
       "Index(['satisfaction_level', 'last_evaluation_score', 'project_count',\n",
       "       'average_monthly_hours', 'years_of_working',\n",
       "       'workplace_acciedent_count', 'employment_status',\n",
       "       'promotion_last_5years', 'department', 'salary_range',\n",
       "       'Score_variance'],\n",
       "      dtype='object')"
      ]
     },
     "execution_count": 3,
     "metadata": {},
     "output_type": "execute_result"
    }
   ],
   "source": [
    "df.drop(columns=['Unnamed: 0'], inplace=True)\n",
    "df.columns"
   ]
  },
  {
   "cell_type": "markdown",
   "id": "67aefa37",
   "metadata": {},
   "source": [
    "## Method 4 - Use of Ensemble with undersamping "
   ]
  },
  {
   "cell_type": "code",
   "execution_count": 24,
   "id": "737e5e83",
   "metadata": {},
   "outputs": [
    {
     "data": {
      "text/plain": [
       "Index(['satisfaction_level', 'last_evaluation_score', 'project_count',\n",
       "       'average_monthly_hours', 'years_of_working',\n",
       "       'workplace_acciedent_count', 'employment_status',\n",
       "       'promotion_last_5years', 'Score_variance', 'department_IT',\n",
       "       'department_RandD', 'department_accounting', 'department_hr',\n",
       "       'department_management', 'department_marketing',\n",
       "       'department_product_mng', 'department_sales', 'department_support',\n",
       "       'department_technical', 'salary_range_high', 'salary_range_low',\n",
       "       'salary_range_medium'],\n",
       "      dtype='object')"
      ]
     },
     "execution_count": 24,
     "metadata": {},
     "output_type": "execute_result"
    }
   ],
   "source": [
    "df= pd.get_dummies(data=df, columns=[\"department\", \"salary_range\"])\n",
    "df.columns"
   ]
  },
  {
   "cell_type": "code",
   "execution_count": null,
   "id": "1aa140b3",
   "metadata": {},
   "outputs": [],
   "source": []
  },
  {
   "cell_type": "code",
   "execution_count": null,
   "id": "4f48cdcb",
   "metadata": {},
   "outputs": [],
   "source": []
  },
  {
   "cell_type": "code",
   "execution_count": 25,
   "id": "59c2754f",
   "metadata": {},
   "outputs": [
    {
     "data": {
      "text/plain": [
       "0    9285\n",
       "1    1882\n",
       "Name: employment_status, dtype: int64"
      ]
     },
     "execution_count": 25,
     "metadata": {},
     "output_type": "execute_result"
    }
   ],
   "source": [
    "df.employment_status.value_counts()"
   ]
  },
  {
   "cell_type": "code",
   "execution_count": 26,
   "id": "df4d79f9",
   "metadata": {},
   "outputs": [],
   "source": [
    "x = df.drop(\"employment_status\", axis=1)\n",
    "y = df[\"employment_status\"]"
   ]
  },
  {
   "cell_type": "code",
   "execution_count": 27,
   "id": "b9e0b5a2",
   "metadata": {},
   "outputs": [],
   "source": [
    "from sklearn.model_selection import train_test_split\n",
    "x_train, x_test, y_train, y_test = train_test_split(x, y, test_size=0.2, random_state=15, stratify=y)"
   ]
  },
  {
   "cell_type": "code",
   "execution_count": 28,
   "id": "f6758e09",
   "metadata": {},
   "outputs": [
    {
     "data": {
      "text/plain": [
       "0    7428\n",
       "1    1505\n",
       "Name: employment_status, dtype: int64"
      ]
     },
     "execution_count": 28,
     "metadata": {},
     "output_type": "execute_result"
    }
   ],
   "source": [
    "y_train.value_counts()"
   ]
  },
  {
   "cell_type": "code",
   "execution_count": 29,
   "id": "e7f8875c",
   "metadata": {},
   "outputs": [
    {
     "data": {
      "text/plain": [
       "4.935548172757475"
      ]
     },
     "execution_count": 29,
     "metadata": {},
     "output_type": "execute_result"
    }
   ],
   "source": [
    "7428/1505\n"
   ]
  },
  {
   "cell_type": "code",
   "execution_count": 30,
   "id": "257d4c9d",
   "metadata": {},
   "outputs": [
    {
     "data": {
      "text/plain": [
       "1485.6"
      ]
     },
     "execution_count": 30,
     "metadata": {},
     "output_type": "execute_result"
    }
   ],
   "source": [
    "7428/5"
   ]
  },
  {
   "cell_type": "code",
   "execution_count": 31,
   "id": "a65fa8ee",
   "metadata": {},
   "outputs": [],
   "source": [
    "df1 = x_train.copy()\n",
    "df1[\"employment_status\"] = y_train"
   ]
  },
  {
   "cell_type": "code",
   "execution_count": 32,
   "id": "01332a55",
   "metadata": {},
   "outputs": [],
   "source": [
    "df_class0 = df1[df1.employment_status==0]\n",
    "df_class1 = df1[df1.employment_status==1]"
   ]
  },
  {
   "cell_type": "code",
   "execution_count": 33,
   "id": "96b9e7ed",
   "metadata": {},
   "outputs": [
    {
     "data": {
      "text/plain": [
       "((7428, 22), (1505, 22))"
      ]
     },
     "execution_count": 33,
     "metadata": {},
     "output_type": "execute_result"
    }
   ],
   "source": [
    "df_class0.shape, df_class1.shape"
   ]
  },
  {
   "cell_type": "code",
   "execution_count": 34,
   "id": "3500f793",
   "metadata": {},
   "outputs": [
    {
     "data": {
      "text/plain": [
       "(1505, 22)"
      ]
     },
     "execution_count": 34,
     "metadata": {},
     "output_type": "execute_result"
    }
   ],
   "source": [
    "df_class0[:1505].shape"
   ]
  },
  {
   "cell_type": "code",
   "execution_count": 35,
   "id": "c5d8351d",
   "metadata": {},
   "outputs": [
    {
     "data": {
      "text/plain": [
       "(3010, 22)"
      ]
     },
     "execution_count": 35,
     "metadata": {},
     "output_type": "execute_result"
    }
   ],
   "source": [
    "df_train = pd.concat([df_class0[:1505], df_class1],axis = 0)\n",
    "df_train.shape"
   ]
  },
  {
   "cell_type": "code",
   "execution_count": 36,
   "id": "508a5b71",
   "metadata": {},
   "outputs": [],
   "source": [
    "def get_train_batch(df_majority, df_minority, start,end):\n",
    "    df_train = pd.concat([df_majority[start:end], df_minority],axis = 0)\n",
    "    x_train = df_train.drop(\"employment_status\", axis=1)\n",
    "    y_train = df_train.employment_status\n",
    "  \n",
    "    return x_train,y_train\n",
    "    "
   ]
  },
  {
   "cell_type": "markdown",
   "id": "f8ae0027",
   "metadata": {},
   "source": [
    "## Perfomance of Logistic regression model (0-1505)"
   ]
  },
  {
   "cell_type": "code",
   "execution_count": 40,
   "id": "670bce6b",
   "metadata": {},
   "outputs": [],
   "source": [
    "from sklearn.metrics import classification_report"
   ]
  },
  {
   "cell_type": "code",
   "execution_count": 41,
   "id": "93c995a4",
   "metadata": {},
   "outputs": [
    {
     "data": {
      "text/plain": [
       "(3010, 21)"
      ]
     },
     "execution_count": 41,
     "metadata": {},
     "output_type": "execute_result"
    }
   ],
   "source": [
    "x_train, y_train = get_train_batch(df_class0, df_class1, 0, 1505)\n",
    "x_train.shape"
   ]
  },
  {
   "cell_type": "code",
   "execution_count": 45,
   "id": "0681e46b",
   "metadata": {},
   "outputs": [
    {
     "name": "stdout",
     "output_type": "stream",
     "text": [
      "              precision    recall  f1-score   support\n",
      "\n",
      "           0       0.98      0.83      0.89      1857\n",
      "           1       0.51      0.90      0.65       377\n",
      "\n",
      "    accuracy                           0.84      2234\n",
      "   macro avg       0.74      0.86      0.77      2234\n",
      "weighted avg       0.90      0.84      0.85      2234\n",
      "\n"
     ]
    }
   ],
   "source": [
    "from sklearn.linear_model import LogisticRegression\n",
    "log1 = LogisticRegression()\n",
    "log1.fit(x_train,y_train)\n",
    "log1.score(x_test,y_test)\n",
    "print(classification_report (y_test, log1.predict(x_test)))"
   ]
  },
  {
   "cell_type": "code",
   "execution_count": 58,
   "id": "f363981d",
   "metadata": {},
   "outputs": [
    {
     "data": {
      "text/plain": [
       "0.8384064458370636"
      ]
     },
     "execution_count": 58,
     "metadata": {},
     "output_type": "execute_result"
    }
   ],
   "source": [
    "log1.score(x_test,y_test)"
   ]
  },
  {
   "cell_type": "markdown",
   "id": "0e3d05f1",
   "metadata": {},
   "source": [
    "## Perfomance of Logistic regression model (1505-3010)"
   ]
  },
  {
   "cell_type": "code",
   "execution_count": 46,
   "id": "fbfd6322",
   "metadata": {},
   "outputs": [
    {
     "name": "stdout",
     "output_type": "stream",
     "text": [
      "              precision    recall  f1-score   support\n",
      "\n",
      "           0       0.98      0.83      0.90      1857\n",
      "           1       0.52      0.91      0.66       377\n",
      "\n",
      "    accuracy                           0.84      2234\n",
      "   macro avg       0.75      0.87      0.78      2234\n",
      "weighted avg       0.90      0.84      0.86      2234\n",
      "\n"
     ]
    }
   ],
   "source": [
    "x_train, y_train = get_train_batch(df_class0, df_class1, 1505, 3010)\n",
    "from sklearn.linear_model import LogisticRegression\n",
    "log2 = LogisticRegression()\n",
    "log2.fit(x_train,y_train)\n",
    "log2.score(x_test,y_test)\n",
    "print(classification_report (y_test, log2.predict(x_test)))"
   ]
  },
  {
   "cell_type": "code",
   "execution_count": 57,
   "id": "d8160c0d",
   "metadata": {},
   "outputs": [
    {
     "data": {
      "text/plain": [
       "0.842882721575649"
      ]
     },
     "execution_count": 57,
     "metadata": {},
     "output_type": "execute_result"
    }
   ],
   "source": [
    "log2.score(x_test,y_test)"
   ]
  },
  {
   "cell_type": "markdown",
   "id": "7f280dc6",
   "metadata": {},
   "source": [
    "## Perfomance of Logistic regression model (3010-4515)"
   ]
  },
  {
   "cell_type": "code",
   "execution_count": 49,
   "id": "b9cd864a",
   "metadata": {},
   "outputs": [
    {
     "name": "stdout",
     "output_type": "stream",
     "text": [
      "              precision    recall  f1-score   support\n",
      "\n",
      "           0       0.98      0.83      0.90      1857\n",
      "           1       0.52      0.90      0.66       377\n",
      "\n",
      "    accuracy                           0.84      2234\n",
      "   macro avg       0.75      0.87      0.78      2234\n",
      "weighted avg       0.90      0.84      0.86      2234\n",
      "\n"
     ]
    }
   ],
   "source": [
    "x_train, y_train = get_train_batch(df_class0, df_class1,3010,4515)\n",
    "from sklearn.linear_model import LogisticRegression\n",
    "log3 = LogisticRegression()\n",
    "log3.fit(x_train,y_train)\n",
    "log3.score(x_test,y_test)\n",
    "print(classification_report (y_test, log3.predict(x_test)))"
   ]
  },
  {
   "cell_type": "code",
   "execution_count": 56,
   "id": "24c3e8c9",
   "metadata": {},
   "outputs": [
    {
     "data": {
      "text/plain": [
       "0.8433303491495077"
      ]
     },
     "execution_count": 56,
     "metadata": {},
     "output_type": "execute_result"
    }
   ],
   "source": [
    "log3.score(x_test,y_test)"
   ]
  },
  {
   "cell_type": "markdown",
   "id": "e1ae8f03",
   "metadata": {},
   "source": [
    "## Perfomance of Logistic regression model (4515-6020)"
   ]
  },
  {
   "cell_type": "code",
   "execution_count": 50,
   "id": "00aa74c7",
   "metadata": {},
   "outputs": [
    {
     "name": "stdout",
     "output_type": "stream",
     "text": [
      "              precision    recall  f1-score   support\n",
      "\n",
      "           0       0.98      0.83      0.90      1857\n",
      "           1       0.52      0.92      0.66       377\n",
      "\n",
      "    accuracy                           0.84      2234\n",
      "   macro avg       0.75      0.87      0.78      2234\n",
      "weighted avg       0.90      0.84      0.86      2234\n",
      "\n"
     ]
    }
   ],
   "source": [
    "x_train, y_train = get_train_batch(df_class0, df_class1,4515, 6020)\n",
    "from sklearn.linear_model import LogisticRegression\n",
    "log4 = LogisticRegression()\n",
    "log4.fit(x_train,y_train)\n",
    "log4.score(x_test,y_test)\n",
    "print(classification_report (y_test, log4.predict(x_test)))"
   ]
  },
  {
   "cell_type": "code",
   "execution_count": 55,
   "id": "279d68f0",
   "metadata": {},
   "outputs": [
    {
     "data": {
      "text/plain": [
       "0.8424350940017905"
      ]
     },
     "execution_count": 55,
     "metadata": {},
     "output_type": "execute_result"
    }
   ],
   "source": [
    "log4.score(x_test,y_test)"
   ]
  },
  {
   "cell_type": "markdown",
   "id": "37219d66",
   "metadata": {},
   "source": [
    "## Perfomance of Logistic regression model (6020 - 7428)"
   ]
  },
  {
   "cell_type": "code",
   "execution_count": 53,
   "id": "ffe30c46",
   "metadata": {},
   "outputs": [
    {
     "name": "stdout",
     "output_type": "stream",
     "text": [
      "              precision    recall  f1-score   support\n",
      "\n",
      "           0       0.98      0.83      0.90      1857\n",
      "           1       0.52      0.92      0.66       377\n",
      "\n",
      "    accuracy                           0.84      2234\n",
      "   macro avg       0.75      0.87      0.78      2234\n",
      "weighted avg       0.90      0.84      0.86      2234\n",
      "\n"
     ]
    }
   ],
   "source": [
    "x_train, y_train = get_train_batch(df_class0, df_class1,4515, 6020)\n",
    "from sklearn.linear_model import LogisticRegression\n",
    "log5 = LogisticRegression()\n",
    "log5.fit(x_train,y_train)\n",
    "log5.score(x_test,y_test)\n",
    "print(classification_report (y_test, log5.predict(x_test)))"
   ]
  },
  {
   "cell_type": "code",
   "execution_count": 54,
   "id": "10503e17",
   "metadata": {},
   "outputs": [
    {
     "data": {
      "text/plain": [
       "0.8424350940017905"
      ]
     },
     "execution_count": 54,
     "metadata": {},
     "output_type": "execute_result"
    }
   ],
   "source": [
    "log5.score(x_test,y_test)"
   ]
  },
  {
   "cell_type": "code",
   "execution_count": null,
   "id": "09cee85b",
   "metadata": {},
   "outputs": [],
   "source": []
  }
 ],
 "metadata": {
  "kernelspec": {
   "display_name": "Python 3 (ipykernel)",
   "language": "python",
   "name": "python3"
  },
  "language_info": {
   "codemirror_mode": {
    "name": "ipython",
    "version": 3
   },
   "file_extension": ".py",
   "mimetype": "text/x-python",
   "name": "python",
   "nbconvert_exporter": "python",
   "pygments_lexer": "ipython3",
   "version": "3.9.13"
  }
 },
 "nbformat": 4,
 "nbformat_minor": 5
}
