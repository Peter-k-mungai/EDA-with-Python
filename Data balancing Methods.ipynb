{
 "cells": [
  {
   "cell_type": "code",
   "execution_count": 1,
   "id": "ccadaa83",
   "metadata": {},
   "outputs": [],
   "source": [
    "import warnings\n",
    "\n",
    "warnings.filterwarnings(\"ignore\")"
   ]
  },
  {
   "cell_type": "code",
   "execution_count": 2,
   "id": "24731d28",
   "metadata": {},
   "outputs": [],
   "source": [
    "import pandas as pd\n",
    "import numpy as np\n",
    "import plotly.express as px\n",
    "import sklearn as sk\n",
    "import seaborn as sns\n",
    "import matplotlib.pyplot as plt"
   ]
  },
  {
   "cell_type": "code",
   "execution_count": 3,
   "id": "4ac300d0",
   "metadata": {},
   "outputs": [
    {
     "data": {
      "text/html": [
       "<div>\n",
       "<style scoped>\n",
       "    .dataframe tbody tr th:only-of-type {\n",
       "        vertical-align: middle;\n",
       "    }\n",
       "\n",
       "    .dataframe tbody tr th {\n",
       "        vertical-align: top;\n",
       "    }\n",
       "\n",
       "    .dataframe thead th {\n",
       "        text-align: right;\n",
       "    }\n",
       "</style>\n",
       "<table border=\"1\" class=\"dataframe\">\n",
       "  <thead>\n",
       "    <tr style=\"text-align: right;\">\n",
       "      <th></th>\n",
       "      <th>Unnamed: 0</th>\n",
       "      <th>satisfaction_level</th>\n",
       "      <th>last_evaluation_score</th>\n",
       "      <th>project_count</th>\n",
       "      <th>average_monthly_hours</th>\n",
       "      <th>years_of_working</th>\n",
       "      <th>workplace_acciedent_count</th>\n",
       "      <th>employment_status</th>\n",
       "      <th>promotion_last_5years</th>\n",
       "      <th>department</th>\n",
       "      <th>salary_range</th>\n",
       "      <th>Score_variance</th>\n",
       "    </tr>\n",
       "  </thead>\n",
       "  <tbody>\n",
       "    <tr>\n",
       "      <th>0</th>\n",
       "      <td>0</td>\n",
       "      <td>0.38</td>\n",
       "      <td>0.53</td>\n",
       "      <td>2</td>\n",
       "      <td>157</td>\n",
       "      <td>3</td>\n",
       "      <td>0</td>\n",
       "      <td>1</td>\n",
       "      <td>0</td>\n",
       "      <td>sales</td>\n",
       "      <td>low</td>\n",
       "      <td>0.15</td>\n",
       "    </tr>\n",
       "    <tr>\n",
       "      <th>1</th>\n",
       "      <td>2</td>\n",
       "      <td>0.11</td>\n",
       "      <td>0.88</td>\n",
       "      <td>7</td>\n",
       "      <td>272</td>\n",
       "      <td>4</td>\n",
       "      <td>0</td>\n",
       "      <td>1</td>\n",
       "      <td>0</td>\n",
       "      <td>sales</td>\n",
       "      <td>medium</td>\n",
       "      <td>0.77</td>\n",
       "    </tr>\n",
       "    <tr>\n",
       "      <th>2</th>\n",
       "      <td>3</td>\n",
       "      <td>0.72</td>\n",
       "      <td>0.87</td>\n",
       "      <td>5</td>\n",
       "      <td>223</td>\n",
       "      <td>5</td>\n",
       "      <td>0</td>\n",
       "      <td>1</td>\n",
       "      <td>0</td>\n",
       "      <td>sales</td>\n",
       "      <td>low</td>\n",
       "      <td>0.15</td>\n",
       "    </tr>\n",
       "    <tr>\n",
       "      <th>3</th>\n",
       "      <td>4</td>\n",
       "      <td>0.37</td>\n",
       "      <td>0.52</td>\n",
       "      <td>2</td>\n",
       "      <td>159</td>\n",
       "      <td>3</td>\n",
       "      <td>0</td>\n",
       "      <td>1</td>\n",
       "      <td>0</td>\n",
       "      <td>sales</td>\n",
       "      <td>low</td>\n",
       "      <td>0.15</td>\n",
       "    </tr>\n",
       "    <tr>\n",
       "      <th>4</th>\n",
       "      <td>5</td>\n",
       "      <td>0.41</td>\n",
       "      <td>0.50</td>\n",
       "      <td>2</td>\n",
       "      <td>153</td>\n",
       "      <td>3</td>\n",
       "      <td>0</td>\n",
       "      <td>1</td>\n",
       "      <td>0</td>\n",
       "      <td>sales</td>\n",
       "      <td>low</td>\n",
       "      <td>0.09</td>\n",
       "    </tr>\n",
       "    <tr>\n",
       "      <th>5</th>\n",
       "      <td>6</td>\n",
       "      <td>0.10</td>\n",
       "      <td>0.77</td>\n",
       "      <td>6</td>\n",
       "      <td>247</td>\n",
       "      <td>4</td>\n",
       "      <td>0</td>\n",
       "      <td>1</td>\n",
       "      <td>0</td>\n",
       "      <td>sales</td>\n",
       "      <td>low</td>\n",
       "      <td>0.67</td>\n",
       "    </tr>\n",
       "    <tr>\n",
       "      <th>6</th>\n",
       "      <td>7</td>\n",
       "      <td>0.92</td>\n",
       "      <td>0.85</td>\n",
       "      <td>5</td>\n",
       "      <td>259</td>\n",
       "      <td>5</td>\n",
       "      <td>0</td>\n",
       "      <td>1</td>\n",
       "      <td>0</td>\n",
       "      <td>sales</td>\n",
       "      <td>low</td>\n",
       "      <td>-0.07</td>\n",
       "    </tr>\n",
       "    <tr>\n",
       "      <th>7</th>\n",
       "      <td>8</td>\n",
       "      <td>0.89</td>\n",
       "      <td>1.00</td>\n",
       "      <td>5</td>\n",
       "      <td>224</td>\n",
       "      <td>5</td>\n",
       "      <td>0</td>\n",
       "      <td>1</td>\n",
       "      <td>0</td>\n",
       "      <td>sales</td>\n",
       "      <td>low</td>\n",
       "      <td>0.11</td>\n",
       "    </tr>\n",
       "    <tr>\n",
       "      <th>8</th>\n",
       "      <td>9</td>\n",
       "      <td>0.42</td>\n",
       "      <td>0.53</td>\n",
       "      <td>2</td>\n",
       "      <td>142</td>\n",
       "      <td>3</td>\n",
       "      <td>0</td>\n",
       "      <td>1</td>\n",
       "      <td>0</td>\n",
       "      <td>sales</td>\n",
       "      <td>low</td>\n",
       "      <td>0.11</td>\n",
       "    </tr>\n",
       "    <tr>\n",
       "      <th>9</th>\n",
       "      <td>10</td>\n",
       "      <td>0.45</td>\n",
       "      <td>0.54</td>\n",
       "      <td>2</td>\n",
       "      <td>135</td>\n",
       "      <td>3</td>\n",
       "      <td>0</td>\n",
       "      <td>1</td>\n",
       "      <td>0</td>\n",
       "      <td>sales</td>\n",
       "      <td>low</td>\n",
       "      <td>0.09</td>\n",
       "    </tr>\n",
       "  </tbody>\n",
       "</table>\n",
       "</div>"
      ],
      "text/plain": [
       "   Unnamed: 0  satisfaction_level  last_evaluation_score  project_count  \\\n",
       "0           0                0.38                   0.53              2   \n",
       "1           2                0.11                   0.88              7   \n",
       "2           3                0.72                   0.87              5   \n",
       "3           4                0.37                   0.52              2   \n",
       "4           5                0.41                   0.50              2   \n",
       "5           6                0.10                   0.77              6   \n",
       "6           7                0.92                   0.85              5   \n",
       "7           8                0.89                   1.00              5   \n",
       "8           9                0.42                   0.53              2   \n",
       "9          10                0.45                   0.54              2   \n",
       "\n",
       "   average_monthly_hours  years_of_working  workplace_acciedent_count  \\\n",
       "0                    157                 3                          0   \n",
       "1                    272                 4                          0   \n",
       "2                    223                 5                          0   \n",
       "3                    159                 3                          0   \n",
       "4                    153                 3                          0   \n",
       "5                    247                 4                          0   \n",
       "6                    259                 5                          0   \n",
       "7                    224                 5                          0   \n",
       "8                    142                 3                          0   \n",
       "9                    135                 3                          0   \n",
       "\n",
       "   employment_status  promotion_last_5years department salary_range  \\\n",
       "0                  1                      0      sales          low   \n",
       "1                  1                      0      sales       medium   \n",
       "2                  1                      0      sales          low   \n",
       "3                  1                      0      sales          low   \n",
       "4                  1                      0      sales          low   \n",
       "5                  1                      0      sales          low   \n",
       "6                  1                      0      sales          low   \n",
       "7                  1                      0      sales          low   \n",
       "8                  1                      0      sales          low   \n",
       "9                  1                      0      sales          low   \n",
       "\n",
       "   Score_variance  \n",
       "0            0.15  \n",
       "1            0.77  \n",
       "2            0.15  \n",
       "3            0.15  \n",
       "4            0.09  \n",
       "5            0.67  \n",
       "6           -0.07  \n",
       "7            0.11  \n",
       "8            0.11  \n",
       "9            0.09  "
      ]
     },
     "execution_count": 3,
     "metadata": {},
     "output_type": "execute_result"
    }
   ],
   "source": [
    "df=pd.read_csv(\"HR_clean.csv\")\n",
    "df.head(10)"
   ]
  },
  {
   "cell_type": "code",
   "execution_count": 4,
   "id": "07d8fbb1",
   "metadata": {},
   "outputs": [
    {
     "data": {
      "text/plain": [
       "Index(['Unnamed: 0', 'satisfaction_level', 'last_evaluation_score',\n",
       "       'project_count', 'average_monthly_hours', 'years_of_working',\n",
       "       'workplace_acciedent_count', 'employment_status',\n",
       "       'promotion_last_5years', 'department', 'salary_range',\n",
       "       'Score_variance'],\n",
       "      dtype='object')"
      ]
     },
     "execution_count": 4,
     "metadata": {},
     "output_type": "execute_result"
    }
   ],
   "source": [
    "df.columns"
   ]
  },
  {
   "cell_type": "code",
   "execution_count": 5,
   "id": "c6d0e31a",
   "metadata": {},
   "outputs": [
    {
     "data": {
      "text/plain": [
       "Index(['satisfaction_level', 'last_evaluation_score', 'project_count',\n",
       "       'average_monthly_hours', 'years_of_working',\n",
       "       'workplace_acciedent_count', 'employment_status',\n",
       "       'promotion_last_5years', 'department', 'salary_range',\n",
       "       'Score_variance'],\n",
       "      dtype='object')"
      ]
     },
     "execution_count": 5,
     "metadata": {},
     "output_type": "execute_result"
    }
   ],
   "source": [
    "df.drop(columns=['Unnamed: 0'], inplace=True)\n",
    "df.columns"
   ]
  },
  {
   "cell_type": "code",
   "execution_count": 6,
   "id": "f22b405d",
   "metadata": {},
   "outputs": [
    {
     "data": {
      "text/plain": [
       "0.8263205013428827"
      ]
     },
     "execution_count": 6,
     "metadata": {},
     "output_type": "execute_result"
    }
   ],
   "source": [
    "from sklearn.svm import LinearSVC\n",
    "from sklearn.model_selection import train_test_split\n",
    "\n",
    "np.random.seed(41)\n",
    "\n",
    "x = df.drop(\"employment_status\", axis=1)\n",
    "y = df[\"employment_status\"]\n",
    "\n",
    "from sklearn.preprocessing import OneHotEncoder\n",
    "from sklearn.compose import ColumnTransformer \n",
    "\n",
    "\n",
    "categorical_features = [\"department\", \"salary_range\"]\n",
    "one_hot = OneHotEncoder()\n",
    "transformer = ColumnTransformer ([(\n",
    "                                    \"one_hot\",\n",
    "                                    one_hot,\n",
    "                                    categorical_features,)],\n",
    "                                    remainder = \"passthrough\")\n",
    "transformed_x=transformer.fit_transform(x)\n",
    "transformed_x\n",
    "\n",
    "\n",
    "x_train, x_test, y_train, y_test = train_test_split(transformed_x, y, test_size=0.2)\n",
    "\n",
    "clf = LinearSVC()\n",
    "clf.fit(x_train, y_train)\n",
    "clf.score(x_test, y_test)"
   ]
  },
  {
   "cell_type": "code",
   "execution_count": 7,
   "id": "e8ec86c8",
   "metadata": {},
   "outputs": [
    {
     "name": "stdout",
     "output_type": "stream",
     "text": [
      "              precision    recall  f1-score   support\n",
      "\n",
      "           0       0.84      0.97      0.90      1849\n",
      "           1       0.48      0.12      0.20       385\n",
      "\n",
      "    accuracy                           0.83      2234\n",
      "   macro avg       0.66      0.55      0.55      2234\n",
      "weighted avg       0.78      0.83      0.78      2234\n",
      "\n"
     ]
    }
   ],
   "source": [
    "from sklearn.metrics import classification_report\n",
    "print(classification_report(y_test, clf.predict(x_test)))"
   ]
  },
  {
   "cell_type": "markdown",
   "id": "45389b97",
   "metadata": {},
   "source": [
    "## Method 1 Undersampling"
   ]
  },
  {
   "cell_type": "code",
   "execution_count": 8,
   "id": "a9b7bfa7",
   "metadata": {},
   "outputs": [
    {
     "data": {
      "text/plain": [
       "Index(['satisfaction_level', 'last_evaluation_score', 'project_count',\n",
       "       'average_monthly_hours', 'years_of_working',\n",
       "       'workplace_acciedent_count', 'employment_status',\n",
       "       'promotion_last_5years', 'Score_variance', 'department_IT',\n",
       "       'department_RandD', 'department_accounting', 'department_hr',\n",
       "       'department_management', 'department_marketing',\n",
       "       'department_product_mng', 'department_sales', 'department_support',\n",
       "       'department_technical', 'salary_range_high', 'salary_range_low',\n",
       "       'salary_range_medium'],\n",
       "      dtype='object')"
      ]
     },
     "execution_count": 8,
     "metadata": {},
     "output_type": "execute_result"
    }
   ],
   "source": [
    "df1= pd.get_dummies(data=df, columns=[\"department\", \"salary_range\"])\n",
    "df1.columns"
   ]
  },
  {
   "cell_type": "code",
   "execution_count": 9,
   "id": "b07e8586",
   "metadata": {},
   "outputs": [],
   "source": [
    "# Class count\n",
    "count_class_0, count_class_1 = df.employment_status.value_counts()\n",
    "\n",
    "# Divide by class\n",
    "df_class_0 = df1[df1[\"employment_status\"] == 0]\n",
    "df_class_1 = df1[df1[\"employment_status\"] == 1]"
   ]
  },
  {
   "cell_type": "code",
   "execution_count": 10,
   "id": "438f7ecd",
   "metadata": {},
   "outputs": [
    {
     "data": {
      "text/plain": [
       "(9285, 22)"
      ]
     },
     "execution_count": 10,
     "metadata": {},
     "output_type": "execute_result"
    }
   ],
   "source": [
    "df_class_0.shape"
   ]
  },
  {
   "cell_type": "code",
   "execution_count": 11,
   "id": "a504f408",
   "metadata": {},
   "outputs": [
    {
     "data": {
      "text/plain": [
       "(1882, 22)"
      ]
     },
     "execution_count": 11,
     "metadata": {},
     "output_type": "execute_result"
    }
   ],
   "source": [
    "df_class_1.shape"
   ]
  },
  {
   "cell_type": "code",
   "execution_count": 12,
   "id": "66ec56aa",
   "metadata": {},
   "outputs": [
    {
     "name": "stdout",
     "output_type": "stream",
     "text": [
      "Random under-sampling:\n",
      "0    1882\n",
      "1    1882\n",
      "Name: employment_status, dtype: int64\n"
     ]
    }
   ],
   "source": [
    "df_class_0_under = df_class_0.sample(count_class_1)\n",
    "df_test_under = pd.concat([df_class_0_under, df_class_1], axis = 0 )\n",
    "\n",
    "\n",
    "print('Random under-sampling:')\n",
    "print(df_test_under.employment_status.value_counts())\n",
    "\n"
   ]
  },
  {
   "cell_type": "code",
   "execution_count": 13,
   "id": "a2d4bad7",
   "metadata": {},
   "outputs": [],
   "source": [
    "x = df_test_under.drop(\"employment_status\", axis=1)\n",
    "y = df_test_under[\"employment_status\"]\n"
   ]
  },
  {
   "cell_type": "code",
   "execution_count": 14,
   "id": "ebf43c94",
   "metadata": {},
   "outputs": [],
   "source": [
    "from sklearn.model_selection import train_test_split\n",
    "x_train, x_test, y_train, y_test = train_test_split(x, y, test_size=0.2, random_state=15, stratify=y)"
   ]
  },
  {
   "cell_type": "code",
   "execution_count": 15,
   "id": "6c933268",
   "metadata": {},
   "outputs": [
    {
     "data": {
      "text/plain": [
       "1    1506\n",
       "0    1505\n",
       "Name: employment_status, dtype: int64"
      ]
     },
     "execution_count": 15,
     "metadata": {},
     "output_type": "execute_result"
    }
   ],
   "source": [
    "y_train.value_counts()"
   ]
  },
  {
   "cell_type": "code",
   "execution_count": 16,
   "id": "f23670f4",
   "metadata": {},
   "outputs": [
    {
     "data": {
      "text/plain": [
       "0.49800796812749004"
      ]
     },
     "execution_count": 16,
     "metadata": {},
     "output_type": "execute_result"
    }
   ],
   "source": [
    "clf = LinearSVC()\n",
    "clf.fit(x_train, y_train)\n",
    "clf.score(x_test, y_test)"
   ]
  },
  {
   "cell_type": "code",
   "execution_count": 17,
   "id": "6c57e5e2",
   "metadata": {},
   "outputs": [
    {
     "name": "stdout",
     "output_type": "stream",
     "text": [
      "              precision    recall  f1-score   support\n",
      "\n",
      "           0       0.50      0.99      0.66       377\n",
      "           1       0.00      0.00      0.00       376\n",
      "\n",
      "    accuracy                           0.50       753\n",
      "   macro avg       0.25      0.50      0.33       753\n",
      "weighted avg       0.25      0.50      0.33       753\n",
      "\n"
     ]
    }
   ],
   "source": [
    "from sklearn.metrics import classification_report\n",
    "print(classification_report(y_test, clf.predict(x_test)))"
   ]
  },
  {
   "cell_type": "markdown",
   "id": "d1cc1501",
   "metadata": {},
   "source": [
    "## Trying the second  model"
   ]
  },
  {
   "cell_type": "code",
   "execution_count": 18,
   "id": "0ec89c9f",
   "metadata": {},
   "outputs": [],
   "source": [
    "from sklearn.ensemble import RandomForestClassifier"
   ]
  },
  {
   "cell_type": "code",
   "execution_count": 19,
   "id": "48b44bf4",
   "metadata": {},
   "outputs": [],
   "source": [
    "model = RandomForestClassifier()"
   ]
  },
  {
   "cell_type": "code",
   "execution_count": 20,
   "id": "a4789061",
   "metadata": {},
   "outputs": [
    {
     "data": {
      "text/plain": [
       "0.950863213811421"
      ]
     },
     "execution_count": 20,
     "metadata": {},
     "output_type": "execute_result"
    }
   ],
   "source": [
    "model.fit(x_train,y_train)\n",
    "model.score(x_test,y_test)"
   ]
  },
  {
   "cell_type": "code",
   "execution_count": 21,
   "id": "f9ae8549",
   "metadata": {},
   "outputs": [
    {
     "name": "stdout",
     "output_type": "stream",
     "text": [
      "              precision    recall  f1-score   support\n",
      "\n",
      "           0       0.92      0.99      0.95       377\n",
      "           1       0.99      0.91      0.95       376\n",
      "\n",
      "    accuracy                           0.95       753\n",
      "   macro avg       0.95      0.95      0.95       753\n",
      "weighted avg       0.95      0.95      0.95       753\n",
      "\n"
     ]
    }
   ],
   "source": [
    "print(classification_report(y_test, model.predict(x_test)))"
   ]
  },
  {
   "cell_type": "markdown",
   "id": "28058018",
   "metadata": {},
   "source": [
    "## Trying the third model"
   ]
  },
  {
   "cell_type": "code",
   "execution_count": 22,
   "id": "e564ae72",
   "metadata": {},
   "outputs": [],
   "source": [
    "from sklearn.linear_model import LogisticRegression\n",
    "log= LogisticRegression()"
   ]
  },
  {
   "cell_type": "code",
   "execution_count": 23,
   "id": "170afd7c",
   "metadata": {},
   "outputs": [
    {
     "data": {
      "text/plain": [
       "0.8592297476759628"
      ]
     },
     "execution_count": 23,
     "metadata": {},
     "output_type": "execute_result"
    }
   ],
   "source": [
    "log.fit(x_train,y_train)\n",
    "log.score(x_test,y_test)"
   ]
  },
  {
   "cell_type": "code",
   "execution_count": 24,
   "id": "812f5093",
   "metadata": {},
   "outputs": [
    {
     "name": "stdout",
     "output_type": "stream",
     "text": [
      "              precision    recall  f1-score   support\n",
      "\n",
      "           0       0.90      0.81      0.85       377\n",
      "           1       0.82      0.91      0.87       376\n",
      "\n",
      "    accuracy                           0.86       753\n",
      "   macro avg       0.86      0.86      0.86       753\n",
      "weighted avg       0.86      0.86      0.86       753\n",
      "\n"
     ]
    }
   ],
   "source": [
    "print(classification_report(y_test, log.predict(x_test)))"
   ]
  },
  {
   "cell_type": "markdown",
   "id": "daa5cf4c",
   "metadata": {},
   "source": [
    "## Method 2- Oversampling"
   ]
  },
  {
   "cell_type": "code",
   "execution_count": 25,
   "id": "89a06803",
   "metadata": {},
   "outputs": [
    {
     "data": {
      "text/plain": [
       "(9285, 1882)"
      ]
     },
     "execution_count": 25,
     "metadata": {},
     "output_type": "execute_result"
    }
   ],
   "source": [
    "count_class_0, count_class_1"
   ]
  },
  {
   "cell_type": "code",
   "execution_count": 29,
   "id": "f05444c9",
   "metadata": {},
   "outputs": [
    {
     "name": "stdout",
     "output_type": "stream",
     "text": [
      "Random over-sampling:\n",
      "0    9285\n",
      "1    9285\n",
      "Name: employment_status, dtype: int64\n"
     ]
    }
   ],
   "source": [
    "df_class_1_over = df_class_1.sample(count_class_0, replace=True)\n",
    "\n",
    "df_test_over = pd.concat([df_class_0, df_class_1_over], axis = 0)\n",
    "\n",
    "print('Random over-sampling:')\n",
    "print(df_test_over.employment_status.value_counts())"
   ]
  },
  {
   "cell_type": "code",
   "execution_count": 28,
   "id": "504dba12",
   "metadata": {},
   "outputs": [
    {
     "data": {
      "text/plain": [
       "(18570, 22)"
      ]
     },
     "execution_count": 28,
     "metadata": {},
     "output_type": "execute_result"
    }
   ],
   "source": [
    "df_test_over.shape"
   ]
  },
  {
   "cell_type": "code",
   "execution_count": 30,
   "id": "e78b8ef1",
   "metadata": {},
   "outputs": [],
   "source": [
    "x = df_test_over.drop(\"employment_status\", axis=1)\n",
    "y = df_test_over[\"employment_status\"]"
   ]
  },
  {
   "cell_type": "code",
   "execution_count": 36,
   "id": "a98afe3b",
   "metadata": {},
   "outputs": [],
   "source": [
    "from sklearn.model_selection import train_test_split\n",
    "x_train, x_test, y_train, y_test = train_test_split(x, y, test_size=0.2, random_state=15, stratify=y)"
   ]
  },
  {
   "cell_type": "code",
   "execution_count": 39,
   "id": "996f0697",
   "metadata": {},
   "outputs": [
    {
     "data": {
      "text/plain": [
       "1    7428\n",
       "0    7428\n",
       "Name: employment_status, dtype: int64"
      ]
     },
     "execution_count": 39,
     "metadata": {},
     "output_type": "execute_result"
    }
   ],
   "source": [
    "y_train.value_counts()"
   ]
  },
  {
   "cell_type": "code",
   "execution_count": 41,
   "id": "86a643fe",
   "metadata": {},
   "outputs": [
    {
     "data": {
      "text/plain": [
       "0    1857\n",
       "1    1857\n",
       "Name: employment_status, dtype: int64"
      ]
     },
     "execution_count": 41,
     "metadata": {},
     "output_type": "execute_result"
    }
   ],
   "source": [
    "y_test.value_counts()"
   ]
  },
  {
   "cell_type": "code",
   "execution_count": null,
   "id": "76fc144c",
   "metadata": {},
   "outputs": [],
   "source": []
  },
  {
   "cell_type": "code",
   "execution_count": 43,
   "id": "642849a4",
   "metadata": {},
   "outputs": [],
   "source": [
    "from sklearn.svm import LinearSVC"
   ]
  },
  {
   "cell_type": "code",
   "execution_count": 46,
   "id": "a02b20df",
   "metadata": {},
   "outputs": [],
   "source": [
    "clf1 = LinearSVC"
   ]
  },
  {
   "cell_type": "code",
   "execution_count": null,
   "id": "2e5b20a4",
   "metadata": {},
   "outputs": [],
   "source": []
  },
  {
   "cell_type": "code",
   "execution_count": 48,
   "id": "38c34063",
   "metadata": {},
   "outputs": [
    {
     "data": {
      "text/plain": [
       "0.5850834679590737"
      ]
     },
     "execution_count": 48,
     "metadata": {},
     "output_type": "execute_result"
    }
   ],
   "source": [
    "clf1 = LinearSVC()\n",
    "clf1.fit(x_train, y_train)\n",
    "clf1.score(x_test, y_test)"
   ]
  },
  {
   "cell_type": "code",
   "execution_count": 49,
   "id": "6bf44821",
   "metadata": {},
   "outputs": [
    {
     "name": "stdout",
     "output_type": "stream",
     "text": [
      "              precision    recall  f1-score   support\n",
      "\n",
      "           0       0.55      0.96      0.70      1857\n",
      "           1       0.85      0.21      0.33      1857\n",
      "\n",
      "    accuracy                           0.59      3714\n",
      "   macro avg       0.70      0.59      0.52      3714\n",
      "weighted avg       0.70      0.59      0.52      3714\n",
      "\n"
     ]
    }
   ],
   "source": [
    "print(classification_report(y_test, clf1.predict(x_test)))"
   ]
  },
  {
   "cell_type": "code",
   "execution_count": null,
   "id": "9a2d0110",
   "metadata": {},
   "outputs": [],
   "source": []
  },
  {
   "cell_type": "code",
   "execution_count": null,
   "id": "a04c305d",
   "metadata": {},
   "outputs": [],
   "source": []
  },
  {
   "cell_type": "code",
   "execution_count": null,
   "id": "c744e4f8",
   "metadata": {},
   "outputs": [],
   "source": []
  },
  {
   "cell_type": "markdown",
   "id": "06a35792",
   "metadata": {},
   "source": [
    "## Model 2"
   ]
  },
  {
   "cell_type": "code",
   "execution_count": 54,
   "id": "f416b9e9",
   "metadata": {},
   "outputs": [],
   "source": [
    "X = df_test_over.drop(\"employment_status\", axis=1)\n",
    "Y = df_test_over[\"employment_status\"]"
   ]
  },
  {
   "cell_type": "code",
   "execution_count": 86,
   "id": "e0ecea9d",
   "metadata": {},
   "outputs": [],
   "source": [
    "from sklearn.model_selection import train_test_split\n",
    "X_train, X_test, Y_train, Y_test = train_test_split(X, Y, test_size=0.2, random_state=15, stratify=Y)"
   ]
  },
  {
   "cell_type": "code",
   "execution_count": null,
   "id": "cab18dff",
   "metadata": {},
   "outputs": [],
   "source": []
  },
  {
   "cell_type": "code",
   "execution_count": null,
   "id": "7b7e2ed4",
   "metadata": {},
   "outputs": [],
   "source": []
  },
  {
   "cell_type": "code",
   "execution_count": 87,
   "id": "9c53f95e",
   "metadata": {},
   "outputs": [
    {
     "data": {
      "text/plain": [
       "0.9975767366720517"
      ]
     },
     "execution_count": 87,
     "metadata": {},
     "output_type": "execute_result"
    }
   ],
   "source": [
    "from sklearn.ensemble import RandomForestClassifier\n",
    "model2= RandomForestClassifier()\n",
    "model2.fit(X_train, Y_train)\n",
    "model2.score(X_test, Y_test)"
   ]
  },
  {
   "cell_type": "code",
   "execution_count": 88,
   "id": "8cfbc125",
   "metadata": {},
   "outputs": [
    {
     "name": "stdout",
     "output_type": "stream",
     "text": [
      "              precision    recall  f1-score   support\n",
      "\n",
      "           0       1.00      1.00      1.00      1857\n",
      "           1       1.00      1.00      1.00      1857\n",
      "\n",
      "    accuracy                           1.00      3714\n",
      "   macro avg       1.00      1.00      1.00      3714\n",
      "weighted avg       1.00      1.00      1.00      3714\n",
      "\n"
     ]
    }
   ],
   "source": [
    "print(classification_report(Y_test, model2.predict(X_test)))"
   ]
  },
  {
   "cell_type": "markdown",
   "id": "f4a380d0",
   "metadata": {},
   "source": [
    "## model 3"
   ]
  },
  {
   "cell_type": "code",
   "execution_count": 59,
   "id": "a25b33a5",
   "metadata": {},
   "outputs": [],
   "source": [
    "X1 = df_test_over.drop(\"employment_status\", axis=1)\n",
    "Y1 = df_test_over[\"employment_status\"]"
   ]
  },
  {
   "cell_type": "code",
   "execution_count": 83,
   "id": "fd69b737",
   "metadata": {},
   "outputs": [],
   "source": [
    "from sklearn.model_selection import train_test_split\n",
    "X1_train, X1_test, Y1_train, Y1_test = train_test_split(X1, Y1, test_size=0.2, random_state=15, stratify=Y1)"
   ]
  },
  {
   "cell_type": "code",
   "execution_count": 84,
   "id": "1d5bc2da",
   "metadata": {},
   "outputs": [
    {
     "data": {
      "text/plain": [
       "0.8739903069466882"
      ]
     },
     "execution_count": 84,
     "metadata": {},
     "output_type": "execute_result"
    }
   ],
   "source": [
    "from sklearn.linear_model import LogisticRegression\n",
    "log1 = LogisticRegression()\n",
    "log1.fit(X1_train,Y1_train)\n",
    "log1.score(X1_test,Y1_test)"
   ]
  },
  {
   "cell_type": "code",
   "execution_count": 85,
   "id": "22c5fc00",
   "metadata": {},
   "outputs": [
    {
     "name": "stdout",
     "output_type": "stream",
     "text": [
      "              precision    recall  f1-score   support\n",
      "\n",
      "           0       0.91      0.83      0.87      1857\n",
      "           1       0.84      0.92      0.88      1857\n",
      "\n",
      "    accuracy                           0.87      3714\n",
      "   macro avg       0.88      0.87      0.87      3714\n",
      "weighted avg       0.88      0.87      0.87      3714\n",
      "\n"
     ]
    }
   ],
   "source": [
    "print(classification_report(Y1_test, log1.predict(X1_test)))"
   ]
  },
  {
   "cell_type": "markdown",
   "id": "6810f604",
   "metadata": {},
   "source": [
    "## Method 3: SMOTE "
   ]
  },
  {
   "cell_type": "code",
   "execution_count": 79,
   "id": "d898eb9d",
   "metadata": {},
   "outputs": [
    {
     "data": {
      "text/plain": [
       "Index(['satisfaction_level', 'last_evaluation_score', 'project_count',\n",
       "       'average_monthly_hours', 'years_of_working',\n",
       "       'workplace_acciedent_count', 'employment_status',\n",
       "       'promotion_last_5years', 'Score_variance', 'department_IT',\n",
       "       'department_RandD', 'department_accounting', 'department_hr',\n",
       "       'department_management', 'department_marketing',\n",
       "       'department_product_mng', 'department_sales', 'department_support',\n",
       "       'department_technical', 'salary_range_high', 'salary_range_low',\n",
       "       'salary_range_medium'],\n",
       "      dtype='object')"
      ]
     },
     "execution_count": 79,
     "metadata": {},
     "output_type": "execute_result"
    }
   ],
   "source": [
    "df2= pd.get_dummies(data=df, columns=[\"department\", \"salary_range\"])\n",
    "df2.columns"
   ]
  },
  {
   "cell_type": "code",
   "execution_count": null,
   "id": "1aff9bb4",
   "metadata": {},
   "outputs": [],
   "source": []
  },
  {
   "cell_type": "code",
   "execution_count": null,
   "id": "5cbf14c4",
   "metadata": {},
   "outputs": [],
   "source": []
  },
  {
   "cell_type": "code",
   "execution_count": 80,
   "id": "9d84864a",
   "metadata": {},
   "outputs": [],
   "source": [
    "X3 = df2.drop(\"employment_status\", axis=1)\n",
    "Y3 = df2[\"employment_status\"]"
   ]
  },
  {
   "cell_type": "code",
   "execution_count": 66,
   "id": "e4b14f45",
   "metadata": {},
   "outputs": [
    {
     "name": "stdout",
     "output_type": "stream",
     "text": [
      "Requirement already satisfied: imbalanced-learn in c:\\users\\admin\\anaconda3\\lib\\site-packages (0.11.0)\n",
      "Requirement already satisfied: threadpoolctl>=2.0.0 in c:\\users\\admin\\anaconda3\\lib\\site-packages (from imbalanced-learn) (2.2.0)\n",
      "Requirement already satisfied: scipy>=1.5.0 in c:\\users\\admin\\anaconda3\\lib\\site-packages (from imbalanced-learn) (1.9.1)\n",
      "Requirement already satisfied: numpy>=1.17.3 in c:\\users\\admin\\anaconda3\\lib\\site-packages (from imbalanced-learn) (1.24.4)\n",
      "Requirement already satisfied: joblib>=1.1.1 in c:\\users\\admin\\anaconda3\\lib\\site-packages (from imbalanced-learn) (1.3.2)\n",
      "Requirement already satisfied: scikit-learn>=1.0.2 in c:\\users\\admin\\anaconda3\\lib\\site-packages (from imbalanced-learn) (1.0.2)\n"
     ]
    }
   ],
   "source": [
    "!pip install -U imbalanced-learn"
   ]
  },
  {
   "cell_type": "code",
   "execution_count": 81,
   "id": "6a48d4d4",
   "metadata": {},
   "outputs": [
    {
     "data": {
      "text/plain": [
       "0    9285\n",
       "1    1882\n",
       "Name: employment_status, dtype: int64"
      ]
     },
     "execution_count": 81,
     "metadata": {},
     "output_type": "execute_result"
    }
   ],
   "source": [
    "Y3.value_counts()\n"
   ]
  },
  {
   "cell_type": "code",
   "execution_count": 82,
   "id": "1a3d2ed4",
   "metadata": {},
   "outputs": [
    {
     "data": {
      "text/plain": [
       "1    9285\n",
       "0    9285\n",
       "Name: employment_status, dtype: int64"
      ]
     },
     "execution_count": 82,
     "metadata": {},
     "output_type": "execute_result"
    }
   ],
   "source": [
    "from imblearn.over_sampling import SMOTE\n",
    "\n",
    "smote = SMOTE(sampling_strategy='minority')\n",
    "X_sm, y_sm = smote.fit_resample(X3, Y3)\n",
    "\n",
    "y_sm.value_counts()"
   ]
  },
  {
   "cell_type": "code",
   "execution_count": null,
   "id": "b863f48b",
   "metadata": {},
   "outputs": [],
   "source": [
    "from sklearn.model_selection import train_test_split\n",
    "x_train, x_test, y_train, y_test = train_test_split(X_sm, Y_sm, test_size=0.2, random_state=15, stratify=Y_sm)"
   ]
  },
  {
   "cell_type": "code",
   "execution_count": 89,
   "id": "fbed2be0",
   "metadata": {},
   "outputs": [
    {
     "data": {
      "text/plain": [
       "1    7428\n",
       "0    7428\n",
       "Name: employment_status, dtype: int64"
      ]
     },
     "execution_count": 89,
     "metadata": {},
     "output_type": "execute_result"
    }
   ],
   "source": [
    "y_train.value_counts()"
   ]
  },
  {
   "cell_type": "code",
   "execution_count": 90,
   "id": "b6131520",
   "metadata": {},
   "outputs": [
    {
     "data": {
      "text/plain": [
       "0    1857\n",
       "1    1857\n",
       "Name: employment_status, dtype: int64"
      ]
     },
     "execution_count": 90,
     "metadata": {},
     "output_type": "execute_result"
    }
   ],
   "source": [
    "y_test.value_counts()"
   ]
  },
  {
   "cell_type": "markdown",
   "id": "0c71f33a",
   "metadata": {},
   "source": [
    "## model 1"
   ]
  },
  {
   "cell_type": "code",
   "execution_count": 91,
   "id": "c0be68f6",
   "metadata": {},
   "outputs": [
    {
     "data": {
      "text/plain": [
       "0.6965535810446958"
      ]
     },
     "execution_count": 91,
     "metadata": {},
     "output_type": "execute_result"
    }
   ],
   "source": [
    "from sklearn.svm import LinearSVC\n",
    "clf3 = LinearSVC()\n",
    "clf3.fit(x_train, y_train)\n",
    "clf3.score(x_test, y_test)"
   ]
  },
  {
   "cell_type": "code",
   "execution_count": 92,
   "id": "93e1dd5d",
   "metadata": {},
   "outputs": [
    {
     "name": "stdout",
     "output_type": "stream",
     "text": [
      "              precision    recall  f1-score   support\n",
      "\n",
      "           0       0.63      0.94      0.76      1857\n",
      "           1       0.89      0.45      0.60      1857\n",
      "\n",
      "    accuracy                           0.70      3714\n",
      "   macro avg       0.76      0.70      0.68      3714\n",
      "weighted avg       0.76      0.70      0.68      3714\n",
      "\n"
     ]
    }
   ],
   "source": [
    "print(classification_report (y_test, clf3.predict(x_test)))"
   ]
  },
  {
   "cell_type": "markdown",
   "id": "c5fcd56b",
   "metadata": {},
   "source": [
    "## Model 2"
   ]
  },
  {
   "cell_type": "code",
   "execution_count": 93,
   "id": "ce441640",
   "metadata": {},
   "outputs": [
    {
     "data": {
      "text/plain": [
       "0.9967689822294022"
      ]
     },
     "execution_count": 93,
     "metadata": {},
     "output_type": "execute_result"
    }
   ],
   "source": [
    "from sklearn.ensemble import RandomForestClassifier\n",
    "mod = RandomForestClassifier()\n",
    "mod.fit(x_train,y_train)\n",
    "mod.score(x_test,y_test)"
   ]
  },
  {
   "cell_type": "code",
   "execution_count": 94,
   "id": "ccfad09b",
   "metadata": {},
   "outputs": [
    {
     "name": "stdout",
     "output_type": "stream",
     "text": [
      "              precision    recall  f1-score   support\n",
      "\n",
      "           0       1.00      1.00      1.00      1857\n",
      "           1       1.00      1.00      1.00      1857\n",
      "\n",
      "    accuracy                           1.00      3714\n",
      "   macro avg       1.00      1.00      1.00      3714\n",
      "weighted avg       1.00      1.00      1.00      3714\n",
      "\n"
     ]
    }
   ],
   "source": [
    "print(classification_report (y_test, mod.predict(x_test)))"
   ]
  },
  {
   "cell_type": "markdown",
   "id": "69539289",
   "metadata": {},
   "source": [
    "## Model 3"
   ]
  },
  {
   "cell_type": "code",
   "execution_count": 96,
   "id": "63ca5039",
   "metadata": {},
   "outputs": [
    {
     "data": {
      "text/plain": [
       "0.8739903069466882"
      ]
     },
     "execution_count": 96,
     "metadata": {},
     "output_type": "execute_result"
    }
   ],
   "source": [
    "from sklearn.linear_model import LogisticRegression\n",
    "logm = LogisticRegression()\n",
    "logm.fit(x_train,y_train)\n",
    "logm.score(x_test,y_test)"
   ]
  },
  {
   "cell_type": "code",
   "execution_count": 97,
   "id": "73c53570",
   "metadata": {},
   "outputs": [
    {
     "name": "stdout",
     "output_type": "stream",
     "text": [
      "              precision    recall  f1-score   support\n",
      "\n",
      "           0       0.91      0.83      0.87      1857\n",
      "           1       0.84      0.92      0.88      1857\n",
      "\n",
      "    accuracy                           0.87      3714\n",
      "   macro avg       0.88      0.87      0.87      3714\n",
      "weighted avg       0.88      0.87      0.87      3714\n",
      "\n"
     ]
    }
   ],
   "source": [
    "print(classification_report (y_test, logm.predict(x_test)))"
   ]
  },
  {
   "cell_type": "code",
   "execution_count": null,
   "id": "78f2032e",
   "metadata": {},
   "outputs": [],
   "source": []
  }
 ],
 "metadata": {
  "kernelspec": {
   "display_name": "Python 3 (ipykernel)",
   "language": "python",
   "name": "python3"
  },
  "language_info": {
   "codemirror_mode": {
    "name": "ipython",
    "version": 3
   },
   "file_extension": ".py",
   "mimetype": "text/x-python",
   "name": "python",
   "nbconvert_exporter": "python",
   "pygments_lexer": "ipython3",
   "version": "3.9.13"
  }
 },
 "nbformat": 4,
 "nbformat_minor": 5
}
